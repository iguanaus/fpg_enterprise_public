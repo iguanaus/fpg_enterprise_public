{
 "cells": [
  {
   "cell_type": "markdown",
   "metadata": {},
   "source": [
    "# Floating Point Group API Integration Endpoints and Walkthrough"
   ]
  },
  {
   "cell_type": "code",
   "execution_count": 44,
   "metadata": {},
   "outputs": [],
   "source": [
    "# Basic imports\n",
    "import requests\n",
    "import json\n",
    "# This is the sandbox endpoint. \n",
    "sandbox_endpoint=\"http://ec2-18-233-238-74.compute-1.amazonaws.com:8001\"\n",
    "private_key=\"private_key_here\"\n",
    "public_key= \"public_key_here\""
   ]
  },
  {
   "cell_type": "code",
   "execution_count": 51,
   "metadata": {},
   "outputs": [
    {
     "name": "stdout",
     "output_type": "stream",
     "text": [
      "200 OK\n"
     ]
    }
   ],
   "source": [
    "# Simulating post and get request, just to test internet. \n",
    "jsonData={'number': 12524, 'type': 'issue', 'action': 'show'}\n",
    "r = requests.post(\"http://bugs.python.org\", data=jsonData)\n",
    "print(r.status_code, r.reason)\n",
    "#print(r.text)"
   ]
  },
  {
   "cell_type": "code",
   "execution_count": 46,
   "metadata": {},
   "outputs": [
    {
     "name": "stdout",
     "output_type": "stream",
     "text": [
      "200 OK\n",
      "{\n",
      "  \"message\": \"Hello World!\"\n",
      "}\n",
      "\n"
     ]
    }
   ],
   "source": [
    "## Request for echo\n",
    "# .../test      \n",
    "url_endpoint=sandbox_endpoint+\"/test\"\n",
    "jsonData={}\n",
    "r = requests.get(url_endpoint, params=jsonData)\n",
    "print(r.status_code, r.reason)\n",
    "print(r.text)"
   ]
  },
  {
   "cell_type": "code",
   "execution_count": 55,
   "metadata": {},
   "outputs": [
    {
     "name": "stdout",
     "output_type": "stream",
     "text": [
      "200 OK\n",
      "{\n",
      "  \"asks\": [\n",
      "    [\n",
      "      6418.1, \n",
      "      13.667\n",
      "    ], \n",
      "    [\n",
      "      6419.9, \n",
      "      5.324\n",
      "    ], \n",
      "    [\n",
      "      6420.5, \n",
      "      0.225\n",
      "    ], \n",
      "    [\n",
      "      6423.5, \n",
      "      0.15\n",
      "    ], \n",
      "    [\n",
      "      6423.8, \n",
      " ...\n"
     ]
    }
   ],
   "source": [
    "## Request for L2 order book\n",
    "# ..../fetch_l2_book?currency_pair=BTC/USD&public_key=040&private_key=302       \n",
    "url_endpoint=sandbox_endpoint+\"/fetch_l2_book\"\n",
    "jsonData={'currency_pair':'BTC/USD','public_key':public_key,'private_key':private_key}\n",
    "r = requests.get(url_endpoint, params=jsonData)\n",
    "print(r.status_code, r.reason)\n",
    "print(r.text[0:200]+\"...\")"
   ]
  },
  {
   "cell_type": "code",
   "execution_count": 48,
   "metadata": {},
   "outputs": [
    {
     "name": "stdout",
     "output_type": "stream",
     "text": [
      "200 OK\n",
      "{\n",
      "  \"ask\": 6419.9, \n",
      "  \"bid\": 6419.8, \n",
      "  \"last\": 6419.85\n",
      "}\n",
      "\n"
     ]
    }
   ],
   "source": [
    "## Fetch Price\n",
    "# .../fetch_price?currency_pair=BTC/USD&public_key=040&private_key=302       \n",
    "url_endpoint=sandbox_endpoint+\"/fetch_price\"\n",
    "jsonData={'currency_pair':'BTC/USD','public_key':public_key,'private_key':private_key}\n",
    "r = requests.get(url_endpoint, params=jsonData)\n",
    "print(r.status_code, r.reason)\n",
    "print(r.text)"
   ]
  },
  {
   "cell_type": "code",
   "execution_count": 49,
   "metadata": {},
   "outputs": [
    {
     "name": "stdout",
     "output_type": "stream",
     "text": [
      "200 OK\n",
      "{\n",
      "  \"price\": 211.65699999999993, \n",
      "  \"trade_info\": {\n",
      "    \"action\": \"buy\", \n",
      "    \"amount\": \"10\", \n",
      "    \"ebq\": \"ETH/USD\", \n",
      "    \"order_price\": 211.65699999999993\n",
      "  }\n",
      "}\n",
      "\n"
     ]
    }
   ],
   "source": [
    "## Fetch Orders and Price\n",
    "# .../fetch_orders_and_price?currency_pair=BTC/USD&order_size=20&order_side=buy&public_key=040&private_key=302       \n",
    "url_endpoint=sandbox_endpoint+\"/fetch_orders_and_price\"\n",
    "jsonData={'currency_pair':'ETH/USD','order_size':'10','order_side':'buy','public_key':public_key,'private_key':private_key}\n",
    "r = requests.get(url_endpoint, params=jsonData)\n",
    "print(r.status_code, r.reason)\n",
    "print(r.text)"
   ]
  },
  {
   "cell_type": "code",
   "execution_count": 50,
   "metadata": {},
   "outputs": [
    {
     "name": "stdout",
     "output_type": "stream",
     "text": [
      "200 OK\n",
      "{\n",
      "  \"BTC\": 2e-09, \n",
      "  \"USD\": 30.449\n",
      "}\n",
      "\n"
     ]
    }
   ],
   "source": [
    "## Fetch Balance\n",
    "# .../fetch_balance?currency_pairs=[%27BTC%27,%27USD%27]&public_key=040&private_key=302      \n",
    "url_endpoint=sandbox_endpoint+\"/fetch_balance\"\n",
    "jsonData={'currency_pairs':\"['BTC','USD']\",'public_key':public_key,'private_key':private_key}\n",
    "r = requests.get(url_endpoint, params=jsonData)\n",
    "print(r.status_code, r.reason)\n",
    "print(r.text)"
   ]
  },
  {
   "cell_type": "code",
   "execution_count": 43,
   "metadata": {},
   "outputs": [
    {
     "name": "stdout",
     "output_type": "stream",
     "text": [
      "{\"trade_info\": {\"action\": \"sell\", \"amount\": \"0.002\", \"ebq\": \"BTC/USD\", \"order_price\": \"6408.59181\"}, \"trade_id\": \"25\", \"public_key\": \"040\", \"private_key\": \"302\"}\n",
      "200 OK\n",
      "{\n",
      "  \"error_message\": \"insufficient funds\", \n",
      "  \"stauts\": \"error\", \n",
      "  \"timestamp\": 1541693002.0\n",
      "}\n",
      "\n"
     ]
    }
   ],
   "source": [
    "## Execute Trade\n",
    "# .../execute_trade?currency_pair=BTC/USD&trade_id=30&public_key=040&private_key=302     \n",
    "# Attention, if this is a sell, note that the amount is still in the quote. \n",
    "url_endpoint=sandbox_endpoint+\"/execute_trade\"\n",
    "tradeInfo = {\n",
    "    \"action\": \"sell\", \n",
    "    \"amount\": \"0.002\", \n",
    "    \"ebq\": \"BTC/USD\", \n",
    "    \"order_price\": '6408.59181'\n",
    "  }\n",
    "jsonData=json.dumps({'trade_info':tradeInfo,'trade_id':'25','public_key':public_key,'private_key':private_key})\n",
    "print(jsonData)\n",
    "r = requests.post(url_endpoint, data=jsonData)\n",
    "print(r.status_code, r.reason)\n",
    "print(r.text)"
   ]
  },
  {
   "cell_type": "code",
   "execution_count": null,
   "metadata": {},
   "outputs": [],
   "source": []
  },
  {
   "cell_type": "code",
   "execution_count": null,
   "metadata": {},
   "outputs": [],
   "source": []
  },
  {
   "cell_type": "code",
   "execution_count": null,
   "metadata": {},
   "outputs": [],
   "source": []
  }
 ],
 "metadata": {
  "kernelspec": {
   "display_name": "Python 3",
   "language": "python",
   "name": "python3"
  },
  "language_info": {
   "codemirror_mode": {
    "name": "ipython",
    "version": 3
   },
   "file_extension": ".py",
   "mimetype": "text/x-python",
   "name": "python",
   "nbconvert_exporter": "python",
   "pygments_lexer": "ipython3",
   "version": "3.7.0"
  }
 },
 "nbformat": 4,
 "nbformat_minor": 2
}
